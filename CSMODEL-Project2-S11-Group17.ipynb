{
 "cells": [
  {
   "cell_type": "markdown",
   "metadata": {},
   "source": [
    "## **CSMODEL S11 Group 17 - Project 2**\n",
    "<br>\n",
    "\n",
    "#### **Members:**\n",
    "- Jadie, Joshue Salvador A.\n",
    "- Lopez, Angel L.\n",
    "- Ponce, Andre Dominic H. \n",
    "\n",
    "<br>\n",
    "\n",
    "#### **Last Modified: September 11, 2021**"
   ]
  },
  {
   "cell_type": "markdown",
   "metadata": {},
   "source": [
    "For this project, as `15 datasets` were given to choose and work from, the group has decided to work with `dataset 1`. With the dataset already provided, it is loaded and pre-processed below."
   ]
  },
  {
   "cell_type": "code",
   "execution_count": 135,
   "metadata": {},
   "outputs": [
    {
     "name": "stdout",
     "output_type": "stream",
     "text": [
      "The autoreload extension is already loaded. To reload it, use:\n",
      "  %reload_ext autoreload\n"
     ]
    }
   ],
   "source": [
    "# import required packages for dataset analysis and data mining\n",
    "import numpy as np\n",
    "import pandas as pd\n",
    "import matplotlib.pyplot as plt\n",
    "import seaborn as sb\n",
    "\n",
    "# for matploblib graphs to be stored and displayed in the notebook's frontend\n",
    "%matplotlib inline\n",
    "\n",
    "# to auto-reload imported python modules when they are updated externally.\n",
    "%load_ext autoreload\n",
    "%autoreload 2"
   ]
  },
  {
   "cell_type": "markdown",
   "metadata": {},
   "source": [
    "### **Dataset Representation**"
   ]
  },
  {
   "cell_type": "markdown",
   "metadata": {},
   "source": [
    "The provided dataset file, `dataset1.csv`, is loaded into a DataFrame and pre-processed below."
   ]
  },
  {
   "cell_type": "code",
   "execution_count": 136,
   "metadata": {},
   "outputs": [],
   "source": [
    "# load 'dataset1.csv' to a dataframe\n",
    "df = pd.read_csv('Dataset1.csv', header=None, sep='\\n')"
   ]
  },
  {
   "cell_type": "code",
   "execution_count": 137,
   "metadata": {},
   "outputs": [
    {
     "data": {
      "text/html": [
       "<div>\n",
       "<style scoped>\n",
       "    .dataframe tbody tr th:only-of-type {\n",
       "        vertical-align: middle;\n",
       "    }\n",
       "\n",
       "    .dataframe tbody tr th {\n",
       "        vertical-align: top;\n",
       "    }\n",
       "\n",
       "    .dataframe thead th {\n",
       "        text-align: right;\n",
       "    }\n",
       "</style>\n",
       "<table border=\"1\" class=\"dataframe\">\n",
       "  <thead>\n",
       "    <tr style=\"text-align: right;\">\n",
       "      <th></th>\n",
       "      <th>0</th>\n",
       "    </tr>\n",
       "  </thead>\n",
       "  <tbody>\n",
       "    <tr>\n",
       "      <th>0</th>\n",
       "      <td>5,14</td>\n",
       "    </tr>\n",
       "    <tr>\n",
       "      <th>1</th>\n",
       "      <td>0,2,10,12</td>\n",
       "    </tr>\n",
       "    <tr>\n",
       "      <th>2</th>\n",
       "      <td>3,5,13,14,16,17,19</td>\n",
       "    </tr>\n",
       "    <tr>\n",
       "      <th>3</th>\n",
       "      <td>1,3,4,7,9,10,14,17</td>\n",
       "    </tr>\n",
       "    <tr>\n",
       "      <th>4</th>\n",
       "      <td>15,16,17</td>\n",
       "    </tr>\n",
       "    <tr>\n",
       "      <th>...</th>\n",
       "      <td>...</td>\n",
       "    </tr>\n",
       "    <tr>\n",
       "      <th>295</th>\n",
       "      <td>8,13,14</td>\n",
       "    </tr>\n",
       "    <tr>\n",
       "      <th>296</th>\n",
       "      <td>4,6,9,11</td>\n",
       "    </tr>\n",
       "    <tr>\n",
       "      <th>297</th>\n",
       "      <td>2,4,8,11,12</td>\n",
       "    </tr>\n",
       "    <tr>\n",
       "      <th>298</th>\n",
       "      <td>5,6,7,9,13,14,16</td>\n",
       "    </tr>\n",
       "    <tr>\n",
       "      <th>299</th>\n",
       "      <td>5,6</td>\n",
       "    </tr>\n",
       "  </tbody>\n",
       "</table>\n",
       "<p>300 rows × 1 columns</p>\n",
       "</div>"
      ],
      "text/plain": [
       "                      0\n",
       "0                  5,14\n",
       "1             0,2,10,12\n",
       "2    3,5,13,14,16,17,19\n",
       "3    1,3,4,7,9,10,14,17\n",
       "4              15,16,17\n",
       "..                  ...\n",
       "295             8,13,14\n",
       "296            4,6,9,11\n",
       "297         2,4,8,11,12\n",
       "298    5,6,7,9,13,14,16\n",
       "299                 5,6\n",
       "\n",
       "[300 rows x 1 columns]"
      ]
     },
     "execution_count": 137,
     "metadata": {},
     "output_type": "execute_result"
    }
   ],
   "source": [
    "# display current dataframe and its values\n",
    "df"
   ]
  },
  {
   "cell_type": "markdown",
   "metadata": {},
   "source": [
    "As of now, the values from the dataset are not properly separated in the current dataframe. Proper processing and separation of the values into columns in the dataframe are done below."
   ]
  },
  {
   "cell_type": "code",
   "execution_count": 138,
   "metadata": {},
   "outputs": [],
   "source": [
    "# separate each row's values into columns in the dataframe with comma (',')\n",
    "df = df[0].str.split(',', expand=True)"
   ]
  },
  {
   "cell_type": "code",
   "execution_count": 139,
   "metadata": {
    "scrolled": false
   },
   "outputs": [
    {
     "data": {
      "text/html": [
       "<div>\n",
       "<style scoped>\n",
       "    .dataframe tbody tr th:only-of-type {\n",
       "        vertical-align: middle;\n",
       "    }\n",
       "\n",
       "    .dataframe tbody tr th {\n",
       "        vertical-align: top;\n",
       "    }\n",
       "\n",
       "    .dataframe thead th {\n",
       "        text-align: right;\n",
       "    }\n",
       "</style>\n",
       "<table border=\"1\" class=\"dataframe\">\n",
       "  <thead>\n",
       "    <tr style=\"text-align: right;\">\n",
       "      <th></th>\n",
       "      <th>0</th>\n",
       "      <th>1</th>\n",
       "      <th>2</th>\n",
       "      <th>3</th>\n",
       "      <th>4</th>\n",
       "      <th>5</th>\n",
       "      <th>6</th>\n",
       "      <th>7</th>\n",
       "    </tr>\n",
       "  </thead>\n",
       "  <tbody>\n",
       "    <tr>\n",
       "      <th>0</th>\n",
       "      <td>5</td>\n",
       "      <td>14</td>\n",
       "      <td>None</td>\n",
       "      <td>None</td>\n",
       "      <td>None</td>\n",
       "      <td>None</td>\n",
       "      <td>None</td>\n",
       "      <td>None</td>\n",
       "    </tr>\n",
       "    <tr>\n",
       "      <th>1</th>\n",
       "      <td>0</td>\n",
       "      <td>2</td>\n",
       "      <td>10</td>\n",
       "      <td>12</td>\n",
       "      <td>None</td>\n",
       "      <td>None</td>\n",
       "      <td>None</td>\n",
       "      <td>None</td>\n",
       "    </tr>\n",
       "    <tr>\n",
       "      <th>2</th>\n",
       "      <td>3</td>\n",
       "      <td>5</td>\n",
       "      <td>13</td>\n",
       "      <td>14</td>\n",
       "      <td>16</td>\n",
       "      <td>17</td>\n",
       "      <td>19</td>\n",
       "      <td>None</td>\n",
       "    </tr>\n",
       "    <tr>\n",
       "      <th>3</th>\n",
       "      <td>1</td>\n",
       "      <td>3</td>\n",
       "      <td>4</td>\n",
       "      <td>7</td>\n",
       "      <td>9</td>\n",
       "      <td>10</td>\n",
       "      <td>14</td>\n",
       "      <td>17</td>\n",
       "    </tr>\n",
       "    <tr>\n",
       "      <th>4</th>\n",
       "      <td>15</td>\n",
       "      <td>16</td>\n",
       "      <td>17</td>\n",
       "      <td>None</td>\n",
       "      <td>None</td>\n",
       "      <td>None</td>\n",
       "      <td>None</td>\n",
       "      <td>None</td>\n",
       "    </tr>\n",
       "    <tr>\n",
       "      <th>...</th>\n",
       "      <td>...</td>\n",
       "      <td>...</td>\n",
       "      <td>...</td>\n",
       "      <td>...</td>\n",
       "      <td>...</td>\n",
       "      <td>...</td>\n",
       "      <td>...</td>\n",
       "      <td>...</td>\n",
       "    </tr>\n",
       "    <tr>\n",
       "      <th>295</th>\n",
       "      <td>8</td>\n",
       "      <td>13</td>\n",
       "      <td>14</td>\n",
       "      <td>None</td>\n",
       "      <td>None</td>\n",
       "      <td>None</td>\n",
       "      <td>None</td>\n",
       "      <td>None</td>\n",
       "    </tr>\n",
       "    <tr>\n",
       "      <th>296</th>\n",
       "      <td>4</td>\n",
       "      <td>6</td>\n",
       "      <td>9</td>\n",
       "      <td>11</td>\n",
       "      <td>None</td>\n",
       "      <td>None</td>\n",
       "      <td>None</td>\n",
       "      <td>None</td>\n",
       "    </tr>\n",
       "    <tr>\n",
       "      <th>297</th>\n",
       "      <td>2</td>\n",
       "      <td>4</td>\n",
       "      <td>8</td>\n",
       "      <td>11</td>\n",
       "      <td>12</td>\n",
       "      <td>None</td>\n",
       "      <td>None</td>\n",
       "      <td>None</td>\n",
       "    </tr>\n",
       "    <tr>\n",
       "      <th>298</th>\n",
       "      <td>5</td>\n",
       "      <td>6</td>\n",
       "      <td>7</td>\n",
       "      <td>9</td>\n",
       "      <td>13</td>\n",
       "      <td>14</td>\n",
       "      <td>16</td>\n",
       "      <td>None</td>\n",
       "    </tr>\n",
       "    <tr>\n",
       "      <th>299</th>\n",
       "      <td>5</td>\n",
       "      <td>6</td>\n",
       "      <td>None</td>\n",
       "      <td>None</td>\n",
       "      <td>None</td>\n",
       "      <td>None</td>\n",
       "      <td>None</td>\n",
       "      <td>None</td>\n",
       "    </tr>\n",
       "  </tbody>\n",
       "</table>\n",
       "<p>300 rows × 8 columns</p>\n",
       "</div>"
      ],
      "text/plain": [
       "      0   1     2     3     4     5     6     7\n",
       "0     5  14  None  None  None  None  None  None\n",
       "1     0   2    10    12  None  None  None  None\n",
       "2     3   5    13    14    16    17    19  None\n",
       "3     1   3     4     7     9    10    14    17\n",
       "4    15  16    17  None  None  None  None  None\n",
       "..   ..  ..   ...   ...   ...   ...   ...   ...\n",
       "295   8  13    14  None  None  None  None  None\n",
       "296   4   6     9    11  None  None  None  None\n",
       "297   2   4     8    11    12  None  None  None\n",
       "298   5   6     7     9    13    14    16  None\n",
       "299   5   6  None  None  None  None  None  None\n",
       "\n",
       "[300 rows x 8 columns]"
      ]
     },
     "execution_count": 139,
     "metadata": {},
     "output_type": "execute_result"
    }
   ],
   "source": [
    "# display current dataframe and its values\n",
    "df"
   ]
  },
  {
   "cell_type": "code",
   "execution_count": 140,
   "metadata": {},
   "outputs": [
    {
     "name": "stdout",
     "output_type": "stream",
     "text": [
      "<class 'pandas.core.frame.DataFrame'>\n",
      "RangeIndex: 300 entries, 0 to 299\n",
      "Data columns (total 8 columns):\n",
      " #   Column  Non-Null Count  Dtype \n",
      "---  ------  --------------  ----- \n",
      " 0   0       300 non-null    object\n",
      " 1   1       267 non-null    object\n",
      " 2   2       222 non-null    object\n",
      " 3   3       189 non-null    object\n",
      " 4   4       151 non-null    object\n",
      " 5   5       109 non-null    object\n",
      " 6   6       80 non-null     object\n",
      " 7   7       40 non-null     object\n",
      "dtypes: object(8)\n",
      "memory usage: 18.9+ KB\n"
     ]
    }
   ],
   "source": [
    "# display general information about the current dataframe\n",
    "df.info()"
   ]
  },
  {
   "cell_type": "code",
   "execution_count": 141,
   "metadata": {},
   "outputs": [
    {
     "data": {
      "text/plain": [
       "(300, 8)"
      ]
     },
     "execution_count": 141,
     "metadata": {},
     "output_type": "execute_result"
    }
   ],
   "source": [
    "# display the dimensions of the current dataframe (rows, columns)\n",
    "df.shape"
   ]
  },
  {
   "cell_type": "markdown",
   "metadata": {},
   "source": [
    "Currently, there are `300` rows and `8` columns in the dataframe."
   ]
  },
  {
   "cell_type": "markdown",
   "metadata": {},
   "source": [
    "Analyzing thoroughly the dataset both in its respective file and in the dataframe as loaded, the group observed that each row in the dataset have **different numbers of values**. For instance, the first row contains only `2` values, while the third row contains `8` values. With the dataset having no header (column names) as well, the most accurate explanation to its structure is that it refers to a **list of item sets**. "
   ]
  },
  {
   "cell_type": "markdown",
   "metadata": {},
   "source": [
    "With that said, each row in the dataset can be represented as an **item set**- the first row is an item set containing items `5` and `14` while the second row is an item set containing items `0, 2, 10` and `12`. As each item in the dataset are represented as **unique numbers**, multiple representations can be made to these items such as items in a local market, words in a document, and many more. For this project, the group will assume that each row in the dataset represents the **set of food bought by a customer in a restaurant**."
   ]
  },
  {
   "cell_type": "markdown",
   "metadata": {},
   "source": [
    "With the acquired observations and assumptions stated above, the group continues the pre-processing of the dataframe which is shown below."
   ]
  },
  {
   "cell_type": "markdown",
   "metadata": {},
   "source": [
    "First, the values of each row in the dataframe are organized in an **array**. This array will respresent the **list of food sets**."
   ]
  },
  {
   "cell_type": "code",
   "execution_count": 142,
   "metadata": {},
   "outputs": [],
   "source": [
    "# list containing the food sets of each customer from the restaurant\n",
    "food_sets = []\n",
    "\n",
    "# properly organize the 300 food sets from the dataset to the list\n",
    "for i in range(df.shape[0]):\n",
    "    # sort the values accordingly, in ascending order\n",
    "    food_set = np.sort([int(x) for x in df.iloc[i].values.tolist() if str(x) != 'None'])\n",
    "    # add the newly organized food set to the list of food sets\n",
    "    food_sets.append(food_set)"
   ]
  },
  {
   "cell_type": "code",
   "execution_count": 143,
   "metadata": {},
   "outputs": [
    {
     "name": "stdout",
     "output_type": "stream",
     "text": [
      "Food Set 0 [ 5 14]\n",
      "Food Set 1 [ 0  2 10 12]\n",
      "Food Set 2 [ 3  5 13 14 16 17 19]\n",
      "Food Set 3 [ 1  3  4  7  9 10 14 17]\n",
      "Food Set 4 [15 16 17]\n",
      "Food Set 5 [ 3  4  5  6  7  8 12 15]\n",
      "Food Set 6 [ 1  4 10 12 13 19]\n",
      "Food Set 7 [ 2  6 15 19]\n",
      "Food Set 8 [ 2 16]\n",
      "Food Set 9 [ 0  7 11 12 13 15 16]\n",
      "Food Set 10 [9]\n",
      "Food Set 11 [2 3 5 7 8]\n",
      "Food Set 12 [ 2  4  6  9 12 13 18 19]\n",
      "Food Set 13 [ 0  1  2  7 13 15 17 19]\n",
      "Food Set 14 [ 2  7 14 19]\n",
      "Food Set 15 [ 4  5  9 13]\n",
      "Food Set 16 [4]\n",
      "Food Set 17 [ 5 19]\n",
      "Food Set 18 [ 0  6 16 18 19]\n",
      "Food Set 19 [ 3  4 11 13 14 15]\n",
      "Food Set 20 [ 2 11]\n",
      "Food Set 21 [ 0  1  7  9 10 11 13]\n",
      "Food Set 22 [ 0  5  8  9 12 13 16 18]\n",
      "Food Set 23 [ 4  8 10 12 14 15 17]\n",
      "Food Set 24 [ 5  7 14]\n",
      "Food Set 25 [ 0  1  3  4  8 10 12 14]\n",
      "Food Set 26 [3]\n",
      "Food Set 27 [10 14]\n",
      "Food Set 28 [ 2  5 13 15]\n",
      "Food Set 29 [ 4  6  9 10 11 13 17]\n",
      "Food Set 30 [ 0  2 11 12 13 14 15 19]\n",
      "Food Set 31 [10 17]\n",
      "Food Set 32 [19]\n",
      "Food Set 33 [ 2  8 11 12 14 15 18]\n",
      "Food Set 34 [11]\n",
      "Food Set 35 [ 6  7  8 12 13 15 17 18]\n",
      "Food Set 36 [ 3  8 16]\n",
      "Food Set 37 [11]\n",
      "Food Set 38 [ 1  5  8  9 13 16]\n",
      "Food Set 39 [ 8 10 11 13 15]\n",
      "Food Set 40 [15]\n",
      "Food Set 41 [ 1  4  6 10 13]\n",
      "Food Set 42 [ 3  5  7 10 11 14 19]\n",
      "Food Set 43 [ 1  4  6 11 13 15 17 18]\n",
      "Food Set 44 [ 2  5  9 11 18 19]\n",
      "Food Set 45 [0 2]\n",
      "Food Set 46 [ 7  8  9 12 14 15 16]\n",
      "Food Set 47 [ 1 17]\n",
      "Food Set 48 [ 0  2  3  8 13 14 16 18]\n",
      "Food Set 49 [11 14 17]\n",
      "Food Set 50 [ 0  3  4  5  6 15 17 19]\n",
      "Food Set 51 [ 1  3  5  7  8 16]\n",
      "Food Set 52 [ 2  5 15]\n",
      "Food Set 53 [ 1  7  8 10 15]\n",
      "Food Set 54 [6]\n",
      "Food Set 55 [ 5  7 14 17 18]\n",
      "Food Set 56 [ 6  7 11 15]\n",
      "Food Set 57 [ 3  8 12]\n",
      "Food Set 58 [ 0  3  9 11 12 15 17]\n",
      "Food Set 59 [ 1  7  9 12 15 18]\n",
      "Food Set 60 [ 4  5  6  7  8 14 16 18]\n",
      "Food Set 61 [ 0  7 19]\n",
      "Food Set 62 [ 1  2 13 16 17]\n",
      "Food Set 63 [ 0  5 13 14]\n",
      "Food Set 64 [ 8  9 11 12 13 15 18]\n",
      "Food Set 65 [ 3  4  7 12 13 16 18 19]\n",
      "Food Set 66 [4 7]\n",
      "Food Set 67 [8]\n",
      "Food Set 68 [ 1  3 11 13 14 19]\n",
      "Food Set 69 [ 2  5  8 16 18]\n",
      "Food Set 70 [ 2 14 17]\n",
      "Food Set 71 [ 4  5 11 13 14 15 16]\n",
      "Food Set 72 [12]\n",
      "Food Set 73 [ 3  4  5 12 13]\n",
      "Food Set 74 [ 3  5 10 14 16 17 18]\n",
      "Food Set 75 [ 0  1  4 10 11 12 19]\n",
      "Food Set 76 [ 7 17]\n",
      "Food Set 77 [17]\n",
      "Food Set 78 [3 5]\n",
      "Food Set 79 [10 12]\n",
      "Food Set 80 [ 0  1  8 10 14 18]\n",
      "Food Set 81 [ 0  4  5  6 15 17]\n",
      "Food Set 82 [13 16]\n",
      "Food Set 83 [ 0  6  7  9 13 16 17]\n",
      "Food Set 84 [ 3 13]\n",
      "Food Set 85 [ 3  4  7  9 11 17]\n",
      "Food Set 86 [ 5 13]\n",
      "Food Set 87 [ 2  3  4  5  7 11 17 18]\n",
      "Food Set 88 [ 3  7  9 15 17]\n",
      "Food Set 89 [ 1  7  8  9 12 15 17]\n",
      "Food Set 90 [ 0  1  2  4  9 11 14]\n",
      "Food Set 91 [ 2  4  9 18]\n",
      "Food Set 92 [ 9 11]\n",
      "Food Set 93 [ 0  3  4  5  7 11 14 19]\n",
      "Food Set 94 [ 3  7 11 13 16 18]\n",
      "Food Set 95 [ 4  6  8 10 12 14 17]\n",
      "Food Set 96 [ 0  1  4 17]\n",
      "Food Set 97 [9]\n",
      "Food Set 98 [ 7 13 17 19]\n",
      "Food Set 99 [ 0  8 12 16]\n",
      "Food Set 100 [0 1 5 8 9]\n",
      "Food Set 101 [13]\n",
      "Food Set 102 [4 5 8]\n",
      "Food Set 103 [12]\n",
      "Food Set 104 [ 2  4  5  7  8 12 17]\n",
      "Food Set 105 [15 16]\n",
      "Food Set 106 [ 4  6  9 11 14]\n",
      "Food Set 107 [ 5  6 16]\n",
      "Food Set 108 [ 1  9 10]\n",
      "Food Set 109 [ 5 11 12 19]\n",
      "Food Set 110 [ 4  5  7 16]\n",
      "Food Set 111 [ 0  1  6 13 16 18]\n",
      "Food Set 112 [ 4 14 15 16]\n",
      "Food Set 113 [ 1  3  5  7 13 14 17]\n",
      "Food Set 114 [ 0  5  6 14]\n",
      "Food Set 115 [14]\n",
      "Food Set 116 [ 6 14]\n",
      "Food Set 117 [ 0  5  8 11 15 18 19]\n",
      "Food Set 118 [5]\n",
      "Food Set 119 [3 8]\n",
      "Food Set 120 [ 0  2  6 11 13 15 18]\n",
      "Food Set 121 [ 0  7 15 16 17]\n",
      "Food Set 122 [12 15]\n",
      "Food Set 123 [ 1 15]\n",
      "Food Set 124 [6]\n",
      "Food Set 125 [ 2  7  8 18]\n",
      "Food Set 126 [ 6  8 11 15 17 19]\n",
      "Food Set 127 [2 6]\n",
      "Food Set 128 [ 0  4  7 12 14 15 19]\n",
      "Food Set 129 [ 1  2  3  8 11 14 18]\n",
      "Food Set 130 [19]\n",
      "Food Set 131 [11 12 13]\n",
      "Food Set 132 [ 3  5 10 13 17]\n",
      "Food Set 133 [ 2  6  7  8 15 16 17 18]\n",
      "Food Set 134 [0 1 3 4]\n",
      "Food Set 135 [ 3  5  9 10 12 13]\n",
      "Food Set 136 [ 0  2  5  6  9 12 13 15]\n",
      "Food Set 137 [ 0  6 12 19]\n",
      "Food Set 138 [0 4 6]\n",
      "Food Set 139 [ 4  8 10 13 14 15 16 18]\n",
      "Food Set 140 [ 4  7 10 13 14]\n",
      "Food Set 141 [2 3]\n",
      "Food Set 142 [ 2  3  5 14 15 16 19]\n",
      "Food Set 143 [2 6]\n",
      "Food Set 144 [ 0  2  5  6 10 13 17]\n",
      "Food Set 145 [ 0  3  9 12 17]\n",
      "Food Set 146 [ 6 11 14 16]\n",
      "Food Set 147 [ 6 12]\n",
      "Food Set 148 [ 2  6 10 12 13 14 17 18]\n",
      "Food Set 149 [ 1  5  6  8 12 13 15]\n",
      "Food Set 150 [10 11 12 15 17]\n",
      "Food Set 151 [ 0  5 10 14 15 17]\n",
      "Food Set 152 [ 3  8 14 16]\n",
      "Food Set 153 [ 8 15 17 19]\n",
      "Food Set 154 [ 0  3  5  7 11 18]\n",
      "Food Set 155 [ 0  3  8 12 18 19]\n",
      "Food Set 156 [ 4 13 15]\n",
      "Food Set 157 [ 6 16 19]\n",
      "Food Set 158 [ 1  9 17 19]\n",
      "Food Set 159 [ 0  1 10 13 14]\n",
      "Food Set 160 [ 8  9 13 14 15]\n",
      "Food Set 161 [ 1 11]\n",
      "Food Set 162 [ 5  8 13 16]\n",
      "Food Set 163 [ 1  5  7  8 10 13 18]\n",
      "Food Set 164 [ 6  7  8 12 17 18]\n",
      "Food Set 165 [ 0  2  9 12 15 18 19]\n",
      "Food Set 166 [ 8 10 12 15 16 19]\n",
      "Food Set 167 [ 1 12]\n",
      "Food Set 168 [ 1  2  7  8  9 10 17 19]\n",
      "Food Set 169 [ 3  5  9 13 14 15 16 18]\n",
      "Food Set 170 [ 1  7 10 14 19]\n",
      "Food Set 171 [ 6  7 19]\n",
      "Food Set 172 [ 0  2  3  4  6 10 13]\n",
      "Food Set 173 [0]\n",
      "Food Set 174 [ 1 14]\n",
      "Food Set 175 [ 2  5  6 10 13 16]\n",
      "Food Set 176 [ 6  8 10 11 13 14 15 16]\n",
      "Food Set 177 [ 1 12 13 15 16 18]\n",
      "Food Set 178 [ 7 11]\n",
      "Food Set 179 [ 5 19]\n",
      "Food Set 180 [12]\n",
      "Food Set 181 [ 0  5 10 11 13 16]\n",
      "Food Set 182 [4 8]\n",
      "Food Set 183 [ 4 12 14]\n",
      "Food Set 184 [ 3  4  5  8  9 12 16 19]\n",
      "Food Set 185 [ 0  2  5 10 16 17 19]\n",
      "Food Set 186 [ 2  3 14]\n",
      "Food Set 187 [ 5 13 18]\n",
      "Food Set 188 [ 2  8  9 11 15 16]\n",
      "Food Set 189 [ 0  4 13 15 18]\n",
      "Food Set 190 [ 4  9 14 15 18]\n",
      "Food Set 191 [ 0  5  7 18 19]\n",
      "Food Set 192 [ 8 18]\n",
      "Food Set 193 [0 6 7 8]\n",
      "Food Set 194 [12 15 19]\n",
      "Food Set 195 [4 6]\n",
      "Food Set 196 [14]\n",
      "Food Set 197 [ 0  5  8 11 18]\n",
      "Food Set 198 [ 0  2  3  5 17]\n",
      "Food Set 199 [ 0  4  8  9 10 11 15]\n",
      "Food Set 200 [ 2  3  4  6  9 11 12 14]\n",
      "Food Set 201 [ 2  3  4 10]\n",
      "Food Set 202 [ 1  4  6  7  9 10 14]\n",
      "Food Set 203 [10 11 13 14 15 19]\n",
      "Food Set 204 [7]\n",
      "Food Set 205 [ 1 10 11 13 15]\n",
      "Food Set 206 [ 9 15 17]\n",
      "Food Set 207 [ 2  4  7 12 13 16 17 19]\n",
      "Food Set 208 [4 8]\n",
      "Food Set 209 [ 4 10 11 13 19]\n",
      "Food Set 210 [ 0  1  2  3  6 17 18 19]\n",
      "Food Set 211 [ 1  4 11 12 15 17]\n",
      "Food Set 212 [0]\n",
      "Food Set 213 [ 4  6 12 14]\n",
      "Food Set 214 [ 2  4 13 14 15 17 18 19]\n",
      "Food Set 215 [ 1 14 15 19]\n",
      "Food Set 216 [ 1  2  7 19]\n",
      "Food Set 217 [ 6 10 17]\n",
      "Food Set 218 [ 3  4  5  8 11 13 14 15]\n",
      "Food Set 219 [ 1  3  5  6  8 19]\n",
      "Food Set 220 [ 0  6 12 15 17]\n",
      "Food Set 221 [ 3  4  5  9 11 13 17]\n",
      "Food Set 222 [ 0  5  6 13 18]\n",
      "Food Set 223 [ 1  7 16]\n",
      "Food Set 224 [ 4 10 13 16]\n",
      "Food Set 225 [1 4 6]\n",
      "Food Set 226 [ 0  4 14]\n",
      "Food Set 227 [2]\n",
      "Food Set 228 [19]\n",
      "Food Set 229 [ 0  9 10]\n",
      "Food Set 230 [ 1  3  5  6  7 11 13 14]\n",
      "Food Set 231 [1]\n",
      "Food Set 232 [ 1  3  5  6  7 16 18]\n",
      "Food Set 233 [2]\n",
      "Food Set 234 [12 14 19]\n",
      "Food Set 235 [ 5  6  9 17]\n",
      "Food Set 236 [ 4  9 10 11 12 15 18]\n",
      "Food Set 237 [ 5 12]\n",
      "Food Set 238 [ 3  5  6  8 12 14 16 18]\n",
      "Food Set 239 [ 4  6  8 10 15]\n",
      "Food Set 240 [ 0  2  5  6  7  9 11]\n",
      "Food Set 241 [ 2 17]\n",
      "Food Set 242 [ 2  5  6  8 10 11 15 18]\n",
      "Food Set 243 [ 3  4  5 18]\n",
      "Food Set 244 [ 1 10 18]\n",
      "Food Set 245 [5]\n",
      "Food Set 246 [ 0  4 15 16]\n",
      "Food Set 247 [13 15 19]\n",
      "Food Set 248 [ 0  3 15]\n",
      "Food Set 249 [ 1  3  7 11 15]\n",
      "Food Set 250 [2 5 6 7 8]\n",
      "Food Set 251 [ 5  8  9 10 12 13 18 19]\n",
      "Food Set 252 [ 3  5  7  8  9 13 14]\n",
      "Food Set 253 [ 7 17]\n",
      "Food Set 254 [10 13]\n",
      "Food Set 255 [ 0 15]\n",
      "Food Set 256 [ 1  5 12 15]\n",
      "Food Set 257 [ 4  7 11 14 17]\n",
      "Food Set 258 [ 0  1  2  4 19]\n",
      "Food Set 259 [5 8]\n",
      "Food Set 260 [ 1  2  5 14 16]\n",
      "Food Set 261 [ 0  6 10 12]\n",
      "Food Set 262 [13]\n",
      "Food Set 263 [1]\n",
      "Food Set 264 [ 0  5 12 13 16 19]\n",
      "Food Set 265 [11 13]\n",
      "Food Set 266 [ 3  5  7 12 14 16 18 19]\n",
      "Food Set 267 [ 0  1  4  8 14 15 17]\n",
      "Food Set 268 [ 3  4 12 13 16]\n",
      "Food Set 269 [ 2  4  8 13]\n",
      "Food Set 270 [ 6 18]\n",
      "Food Set 271 [ 2  3  5  7  8 12]\n",
      "Food Set 272 [ 6 12 17]\n",
      "Food Set 273 [ 2  5  7  9 13 17 18 19]\n",
      "Food Set 274 [18]\n",
      "Food Set 275 [0 1 3 4]\n",
      "Food Set 276 [7]\n",
      "Food Set 277 [ 0  1  6 10 12 14 17 18]\n",
      "Food Set 278 [ 0  4  6 12 15 16 18]\n",
      "Food Set 279 [ 1  2  5 11 12 13 16 17]\n",
      "Food Set 280 [ 1  3  9 10 15 17]\n",
      "Food Set 281 [ 2  3 10 11 18]\n",
      "Food Set 282 [ 0  1  3  4  5  9 12 17]\n",
      "Food Set 283 [ 2 13 14 15 16]\n",
      "Food Set 284 [ 4 11 13 14]\n",
      "Food Set 285 [ 6  7  9 10 12 16 17 18]\n",
      "Food Set 286 [ 4  9 12 17 19]\n",
      "Food Set 287 [ 4 10]\n",
      "Food Set 288 [ 3  8 12 16 18]\n",
      "Food Set 289 [ 9 16]\n",
      "Food Set 290 [ 1 11 15]\n",
      "Food Set 291 [14]\n",
      "Food Set 292 [ 1  5 11 13 15 16 18 19]\n",
      "Food Set 293 [ 5  7  8 12 19]\n",
      "Food Set 294 [ 1  5  8 11 13 15 18 19]\n",
      "Food Set 295 [ 8 13 14]\n",
      "Food Set 296 [ 4  6  9 11]\n",
      "Food Set 297 [ 2  4  8 11 12]\n",
      "Food Set 298 [ 5  6  7  9 13 14 16]\n",
      "Food Set 299 [5 6]\n"
     ]
    }
   ],
   "source": [
    "# display the contents of the list\n",
    "for i, food_set in enumerate(food_sets):\n",
    "    print('Food Set', i, food_set)"
   ]
  },
  {
   "cell_type": "markdown",
   "metadata": {},
   "source": [
    "Let's see **how many unique food items** are there in the list of food sets."
   ]
  },
  {
   "cell_type": "code",
   "execution_count": 144,
   "metadata": {},
   "outputs": [],
   "source": [
    "# get the unique food items in the list\n",
    "items = set()\n",
    "items.update(*food_sets)"
   ]
  },
  {
   "cell_type": "code",
   "execution_count": 145,
   "metadata": {},
   "outputs": [
    {
     "data": {
      "text/plain": [
       "{0, 1, 2, 3, 4, 5, 6, 7, 8, 9, 10, 11, 12, 13, 14, 15, 16, 17, 18, 19}"
      ]
     },
     "execution_count": 145,
     "metadata": {},
     "output_type": "execute_result"
    }
   ],
   "source": [
    "# display the unique food items \n",
    "items"
   ]
  },
  {
   "cell_type": "code",
   "execution_count": 146,
   "metadata": {},
   "outputs": [
    {
     "data": {
      "text/plain": [
       "20"
      ]
     },
     "execution_count": 146,
     "metadata": {},
     "output_type": "execute_result"
    }
   ],
   "source": [
    "# display the number of unique food items\n",
    "len(items)"
   ]
  },
  {
   "cell_type": "markdown",
   "metadata": {},
   "source": [
    "As observed, there are `20` unique food items in the whole list of food sets, from food item `0` to food item `19`."
   ]
  },
  {
   "cell_type": "markdown",
   "metadata": {},
   "source": [
    "With the organized list of food sets, the final dataframe to be used for data mining later on is created and pre-processed below."
   ]
  },
  {
   "cell_type": "code",
   "execution_count": 147,
   "metadata": {},
   "outputs": [],
   "source": [
    "# create the dataframe for the list of food sets with 300 rows and 20 columns\n",
    "food_set_df = pd.DataFrame([[0 for _ in range(20)] for _ in range(300)], columns=list(items))\n",
    "\n",
    "# assign value '1' for existing food item in each row\n",
    "for i, food_set in enumerate(food_sets):\n",
    "    food_set_df.iloc[i, food_set] = 1"
   ]
  },
  {
   "cell_type": "code",
   "execution_count": 148,
   "metadata": {},
   "outputs": [
    {
     "data": {
      "text/html": [
       "<div>\n",
       "<style scoped>\n",
       "    .dataframe tbody tr th:only-of-type {\n",
       "        vertical-align: middle;\n",
       "    }\n",
       "\n",
       "    .dataframe tbody tr th {\n",
       "        vertical-align: top;\n",
       "    }\n",
       "\n",
       "    .dataframe thead th {\n",
       "        text-align: right;\n",
       "    }\n",
       "</style>\n",
       "<table border=\"1\" class=\"dataframe\">\n",
       "  <thead>\n",
       "    <tr style=\"text-align: right;\">\n",
       "      <th></th>\n",
       "      <th>0</th>\n",
       "      <th>1</th>\n",
       "      <th>2</th>\n",
       "      <th>3</th>\n",
       "      <th>4</th>\n",
       "      <th>5</th>\n",
       "      <th>6</th>\n",
       "      <th>7</th>\n",
       "      <th>8</th>\n",
       "      <th>9</th>\n",
       "      <th>10</th>\n",
       "      <th>11</th>\n",
       "      <th>12</th>\n",
       "      <th>13</th>\n",
       "      <th>14</th>\n",
       "      <th>15</th>\n",
       "      <th>16</th>\n",
       "      <th>17</th>\n",
       "      <th>18</th>\n",
       "      <th>19</th>\n",
       "    </tr>\n",
       "  </thead>\n",
       "  <tbody>\n",
       "    <tr>\n",
       "      <th>0</th>\n",
       "      <td>0</td>\n",
       "      <td>0</td>\n",
       "      <td>0</td>\n",
       "      <td>0</td>\n",
       "      <td>0</td>\n",
       "      <td>1</td>\n",
       "      <td>0</td>\n",
       "      <td>0</td>\n",
       "      <td>0</td>\n",
       "      <td>0</td>\n",
       "      <td>0</td>\n",
       "      <td>0</td>\n",
       "      <td>0</td>\n",
       "      <td>0</td>\n",
       "      <td>1</td>\n",
       "      <td>0</td>\n",
       "      <td>0</td>\n",
       "      <td>0</td>\n",
       "      <td>0</td>\n",
       "      <td>0</td>\n",
       "    </tr>\n",
       "    <tr>\n",
       "      <th>1</th>\n",
       "      <td>1</td>\n",
       "      <td>0</td>\n",
       "      <td>1</td>\n",
       "      <td>0</td>\n",
       "      <td>0</td>\n",
       "      <td>0</td>\n",
       "      <td>0</td>\n",
       "      <td>0</td>\n",
       "      <td>0</td>\n",
       "      <td>0</td>\n",
       "      <td>1</td>\n",
       "      <td>0</td>\n",
       "      <td>1</td>\n",
       "      <td>0</td>\n",
       "      <td>0</td>\n",
       "      <td>0</td>\n",
       "      <td>0</td>\n",
       "      <td>0</td>\n",
       "      <td>0</td>\n",
       "      <td>0</td>\n",
       "    </tr>\n",
       "    <tr>\n",
       "      <th>2</th>\n",
       "      <td>0</td>\n",
       "      <td>0</td>\n",
       "      <td>0</td>\n",
       "      <td>1</td>\n",
       "      <td>0</td>\n",
       "      <td>1</td>\n",
       "      <td>0</td>\n",
       "      <td>0</td>\n",
       "      <td>0</td>\n",
       "      <td>0</td>\n",
       "      <td>0</td>\n",
       "      <td>0</td>\n",
       "      <td>0</td>\n",
       "      <td>1</td>\n",
       "      <td>1</td>\n",
       "      <td>0</td>\n",
       "      <td>1</td>\n",
       "      <td>1</td>\n",
       "      <td>0</td>\n",
       "      <td>1</td>\n",
       "    </tr>\n",
       "    <tr>\n",
       "      <th>3</th>\n",
       "      <td>0</td>\n",
       "      <td>1</td>\n",
       "      <td>0</td>\n",
       "      <td>1</td>\n",
       "      <td>1</td>\n",
       "      <td>0</td>\n",
       "      <td>0</td>\n",
       "      <td>1</td>\n",
       "      <td>0</td>\n",
       "      <td>1</td>\n",
       "      <td>1</td>\n",
       "      <td>0</td>\n",
       "      <td>0</td>\n",
       "      <td>0</td>\n",
       "      <td>1</td>\n",
       "      <td>0</td>\n",
       "      <td>0</td>\n",
       "      <td>1</td>\n",
       "      <td>0</td>\n",
       "      <td>0</td>\n",
       "    </tr>\n",
       "    <tr>\n",
       "      <th>4</th>\n",
       "      <td>0</td>\n",
       "      <td>0</td>\n",
       "      <td>0</td>\n",
       "      <td>0</td>\n",
       "      <td>0</td>\n",
       "      <td>0</td>\n",
       "      <td>0</td>\n",
       "      <td>0</td>\n",
       "      <td>0</td>\n",
       "      <td>0</td>\n",
       "      <td>0</td>\n",
       "      <td>0</td>\n",
       "      <td>0</td>\n",
       "      <td>0</td>\n",
       "      <td>0</td>\n",
       "      <td>1</td>\n",
       "      <td>1</td>\n",
       "      <td>1</td>\n",
       "      <td>0</td>\n",
       "      <td>0</td>\n",
       "    </tr>\n",
       "    <tr>\n",
       "      <th>...</th>\n",
       "      <td>...</td>\n",
       "      <td>...</td>\n",
       "      <td>...</td>\n",
       "      <td>...</td>\n",
       "      <td>...</td>\n",
       "      <td>...</td>\n",
       "      <td>...</td>\n",
       "      <td>...</td>\n",
       "      <td>...</td>\n",
       "      <td>...</td>\n",
       "      <td>...</td>\n",
       "      <td>...</td>\n",
       "      <td>...</td>\n",
       "      <td>...</td>\n",
       "      <td>...</td>\n",
       "      <td>...</td>\n",
       "      <td>...</td>\n",
       "      <td>...</td>\n",
       "      <td>...</td>\n",
       "      <td>...</td>\n",
       "    </tr>\n",
       "    <tr>\n",
       "      <th>295</th>\n",
       "      <td>0</td>\n",
       "      <td>0</td>\n",
       "      <td>0</td>\n",
       "      <td>0</td>\n",
       "      <td>0</td>\n",
       "      <td>0</td>\n",
       "      <td>0</td>\n",
       "      <td>0</td>\n",
       "      <td>1</td>\n",
       "      <td>0</td>\n",
       "      <td>0</td>\n",
       "      <td>0</td>\n",
       "      <td>0</td>\n",
       "      <td>1</td>\n",
       "      <td>1</td>\n",
       "      <td>0</td>\n",
       "      <td>0</td>\n",
       "      <td>0</td>\n",
       "      <td>0</td>\n",
       "      <td>0</td>\n",
       "    </tr>\n",
       "    <tr>\n",
       "      <th>296</th>\n",
       "      <td>0</td>\n",
       "      <td>0</td>\n",
       "      <td>0</td>\n",
       "      <td>0</td>\n",
       "      <td>1</td>\n",
       "      <td>0</td>\n",
       "      <td>1</td>\n",
       "      <td>0</td>\n",
       "      <td>0</td>\n",
       "      <td>1</td>\n",
       "      <td>0</td>\n",
       "      <td>1</td>\n",
       "      <td>0</td>\n",
       "      <td>0</td>\n",
       "      <td>0</td>\n",
       "      <td>0</td>\n",
       "      <td>0</td>\n",
       "      <td>0</td>\n",
       "      <td>0</td>\n",
       "      <td>0</td>\n",
       "    </tr>\n",
       "    <tr>\n",
       "      <th>297</th>\n",
       "      <td>0</td>\n",
       "      <td>0</td>\n",
       "      <td>1</td>\n",
       "      <td>0</td>\n",
       "      <td>1</td>\n",
       "      <td>0</td>\n",
       "      <td>0</td>\n",
       "      <td>0</td>\n",
       "      <td>1</td>\n",
       "      <td>0</td>\n",
       "      <td>0</td>\n",
       "      <td>1</td>\n",
       "      <td>1</td>\n",
       "      <td>0</td>\n",
       "      <td>0</td>\n",
       "      <td>0</td>\n",
       "      <td>0</td>\n",
       "      <td>0</td>\n",
       "      <td>0</td>\n",
       "      <td>0</td>\n",
       "    </tr>\n",
       "    <tr>\n",
       "      <th>298</th>\n",
       "      <td>0</td>\n",
       "      <td>0</td>\n",
       "      <td>0</td>\n",
       "      <td>0</td>\n",
       "      <td>0</td>\n",
       "      <td>1</td>\n",
       "      <td>1</td>\n",
       "      <td>1</td>\n",
       "      <td>0</td>\n",
       "      <td>1</td>\n",
       "      <td>0</td>\n",
       "      <td>0</td>\n",
       "      <td>0</td>\n",
       "      <td>1</td>\n",
       "      <td>1</td>\n",
       "      <td>0</td>\n",
       "      <td>1</td>\n",
       "      <td>0</td>\n",
       "      <td>0</td>\n",
       "      <td>0</td>\n",
       "    </tr>\n",
       "    <tr>\n",
       "      <th>299</th>\n",
       "      <td>0</td>\n",
       "      <td>0</td>\n",
       "      <td>0</td>\n",
       "      <td>0</td>\n",
       "      <td>0</td>\n",
       "      <td>1</td>\n",
       "      <td>1</td>\n",
       "      <td>0</td>\n",
       "      <td>0</td>\n",
       "      <td>0</td>\n",
       "      <td>0</td>\n",
       "      <td>0</td>\n",
       "      <td>0</td>\n",
       "      <td>0</td>\n",
       "      <td>0</td>\n",
       "      <td>0</td>\n",
       "      <td>0</td>\n",
       "      <td>0</td>\n",
       "      <td>0</td>\n",
       "      <td>0</td>\n",
       "    </tr>\n",
       "  </tbody>\n",
       "</table>\n",
       "<p>300 rows × 20 columns</p>\n",
       "</div>"
      ],
      "text/plain": [
       "     0   1   2   3   4   5   6   7   8   9   10  11  12  13  14  15  16  17  \\\n",
       "0     0   0   0   0   0   1   0   0   0   0   0   0   0   0   1   0   0   0   \n",
       "1     1   0   1   0   0   0   0   0   0   0   1   0   1   0   0   0   0   0   \n",
       "2     0   0   0   1   0   1   0   0   0   0   0   0   0   1   1   0   1   1   \n",
       "3     0   1   0   1   1   0   0   1   0   1   1   0   0   0   1   0   0   1   \n",
       "4     0   0   0   0   0   0   0   0   0   0   0   0   0   0   0   1   1   1   \n",
       "..   ..  ..  ..  ..  ..  ..  ..  ..  ..  ..  ..  ..  ..  ..  ..  ..  ..  ..   \n",
       "295   0   0   0   0   0   0   0   0   1   0   0   0   0   1   1   0   0   0   \n",
       "296   0   0   0   0   1   0   1   0   0   1   0   1   0   0   0   0   0   0   \n",
       "297   0   0   1   0   1   0   0   0   1   0   0   1   1   0   0   0   0   0   \n",
       "298   0   0   0   0   0   1   1   1   0   1   0   0   0   1   1   0   1   0   \n",
       "299   0   0   0   0   0   1   1   0   0   0   0   0   0   0   0   0   0   0   \n",
       "\n",
       "     18  19  \n",
       "0     0   0  \n",
       "1     0   0  \n",
       "2     0   1  \n",
       "3     0   0  \n",
       "4     0   0  \n",
       "..   ..  ..  \n",
       "295   0   0  \n",
       "296   0   0  \n",
       "297   0   0  \n",
       "298   0   0  \n",
       "299   0   0  \n",
       "\n",
       "[300 rows x 20 columns]"
      ]
     },
     "execution_count": 148,
     "metadata": {},
     "output_type": "execute_result"
    }
   ],
   "source": [
    "# display the final dataframe for the list of food sets\n",
    "food_set_df"
   ]
  },
  {
   "cell_type": "code",
   "execution_count": 149,
   "metadata": {},
   "outputs": [
    {
     "data": {
      "text/plain": [
       "(300, 20)"
      ]
     },
     "execution_count": 149,
     "metadata": {},
     "output_type": "execute_result"
    }
   ],
   "source": [
    "# display the dimensions of the final dataframe (rows, columns)\n",
    "food_set_df.shape"
   ]
  },
  {
   "cell_type": "markdown",
   "metadata": {},
   "source": [
    "With the pre-processed and finalized dataframe, exploratory data analysis and data mining are done below."
   ]
  },
  {
   "cell_type": "markdown",
   "metadata": {},
   "source": [
    "### **Exploratory Data Analysis**"
   ]
  },
  {
   "cell_type": "markdown",
   "metadata": {},
   "source": [
    "##### ***What are the top 3 most bought food items from the list of food sets?***"
   ]
  },
  {
   "cell_type": "markdown",
   "metadata": {},
   "source": [
    "For this question, the group wants to determine which among the `20` food items in the list of food sets are the **top 3 most bought food items**. To do this, the `frequency` of each food item is acquired by counting the number of `1s` of each variable (food item) in the dataframe."
   ]
  },
  {
   "cell_type": "code",
   "execution_count": 150,
   "metadata": {
    "scrolled": true
   },
   "outputs": [],
   "source": [
    "# get the frequency of each food item from the dataset again and sort the values in ascending order.\n",
    "freqs = food_set_df.sum().sort_values()"
   ]
  },
  {
   "cell_type": "code",
   "execution_count": 151,
   "metadata": {},
   "outputs": [
    {
     "data": {
      "text/plain": [
       "9     54\n",
       "10    58\n",
       "19    60\n",
       "16    61\n",
       "18    61\n",
       "2     62\n",
       "3     63\n",
       "1     63\n",
       "11    65\n",
       "7     66\n",
       "17    66\n",
       "6     68\n",
       "0     68\n",
       "8     69\n",
       "14    73\n",
       "12    74\n",
       "4     77\n",
       "15    79\n",
       "13    84\n",
       "5     87\n",
       "dtype: int64"
      ]
     },
     "execution_count": 151,
     "metadata": {},
     "output_type": "execute_result"
    }
   ],
   "source": [
    "# display the acquired frequencies\n",
    "freqs"
   ]
  },
  {
   "cell_type": "markdown",
   "metadata": {},
   "source": [
    "It can be observed that food item `9` is the **least occurring and bought food** while food item `5` is the **most occurring and bought food** from the restaurant."
   ]
  },
  {
   "cell_type": "markdown",
   "metadata": {},
   "source": [
    "The acquired frequencies of each food item shall be visualized using a **bar plot** since the food items are **categorical variables**."
   ]
  },
  {
   "cell_type": "code",
   "execution_count": 152,
   "metadata": {},
   "outputs": [
    {
     "data": {
      "image/png": "[encoded data removed]",
      "text/plain": [
       "<Figure size 864x576 with 1 Axes>"
      ]
     },
     "metadata": {},
     "output_type": "display_data"
    }
   ],
   "source": [
    "# get the x and y values of the acquired frequencies\n",
    "x = [str(item) for item in freqs.index.tolist()]\n",
    "y = freqs.values.tolist()\n",
    "\n",
    "# setup figure size and facecolor of bar plot\n",
    "plt.figure(figsize=(12, 8), facecolor='white')\n",
    "\n",
    "# setup bar plot with matplotlib\n",
    "bar_plot = plt.bar(x, y, color='gray', width=0.6)\n",
    "plt.title('Frequency Of Each Food Item')\n",
    "plt.xlabel('Food Item')\n",
    "plt.ylabel('Frequency')\n",
    "\n",
    "# set bar color of top 3 most bought food items\n",
    "bar_plot[19].set_color('blue')\n",
    "bar_plot[18].set_color('green')\n",
    "bar_plot[17].set_color('orange')\n",
    "\n",
    "# display bar plot\n",
    "plt.show()"
   ]
  },
  {
   "cell_type": "markdown",
   "metadata": {},
   "source": [
    "As observed both from the Series object that contains the frequencies per food item and the created bar plot, the top 3 most bought food items from the list of food sets are **food items `5`, `13`, and `15`**. Food item `5` as 1st, being bought `87` times. Food item `13` being 2nd as being bought `84` times. Food item `15` being 3rd as bought `79` times from the acquired list of food sets. "
   ]
  },
  {
   "cell_type": "markdown",
   "metadata": {},
   "source": [
    "##### ***What is the most frequent number of food items bought in the list of food sets?***"
   ]
  },
  {
   "cell_type": "markdown",
   "metadata": {},
   "source": [
    "For this question, the group wants to find out the most frequent number of food items bought by the customers with the given list of food sets as this can possibly affect the results to be given by the data mining process which is done later on in this project. To further explain, the group wants to know if the customers usually buy `N` food items from the restaurant, `N` being the number of food items bought. The process towards determining the most frequent number of food items bought is done below."
   ]
  },
  {
   "cell_type": "code",
   "execution_count": 160,
   "metadata": {},
   "outputs": [
    {
     "data": {
      "text/plain": [
       "0      2\n",
       "1      4\n",
       "2      7\n",
       "3      8\n",
       "4      3\n",
       "      ..\n",
       "295    3\n",
       "296    4\n",
       "297    5\n",
       "298    7\n",
       "299    2\n",
       "Name: num_food_items, Length: 300, dtype: int64"
      ]
     },
     "execution_count": 160,
     "metadata": {},
     "output_type": "execute_result"
    }
   ],
   "source": [
    "# create a copy of the food set dataframe\n",
    "temp_df = food_set_df.copy()\n",
    "\n",
    "# get the number of food items per row (food set) and create a new column to store these values\n",
    "temp_df['num_food_items'] = temp_df.sum(axis=1)\n",
    "\n",
    "# display the created column containing the number of food items per row\n",
    "temp_df['num_food_items']"
   ]
  },
  {
   "cell_type": "markdown",
   "metadata": {},
   "source": [
    "With the number of food items per row acquired, the group now wants to determine the **most frequent number of food items bought**."
   ]
  },
  {
   "cell_type": "code",
   "execution_count": 162,
   "metadata": {},
   "outputs": [
    {
     "data": {
      "text/plain": [
       "2    45\n",
       "5    42\n",
       "7    40\n",
       "8    40\n",
       "4    38\n",
       "3    33\n",
       "1    33\n",
       "6    29\n",
       "Name: num_food_items, dtype: int64"
      ]
     },
     "execution_count": 162,
     "metadata": {},
     "output_type": "execute_result"
    }
   ],
   "source": [
    "# get the frequencies of each food set's number of food items bought\n",
    "set_item_freqs = temp_df['num_food_items'].value_counts()\n",
    "\n",
    "# display the frequencies\n",
    "set_item_freqs"
   ]
  },
  {
   "cell_type": "markdown",
   "metadata": {},
   "source": [
    "As observed in the results, there are `8` different numbers of food items bought from all food sets."
   ]
  },
  {
   "cell_type": "markdown",
   "metadata": {},
   "source": [
    "The **most frequent number of food items bought** by customers in the list of food sets is `2` food items with a frequency of `45` customers. The **least frequent number of food items bought** is `6` food items, having a frequency of `29` customers. It is notable as well for the group that there were `40` customers who bought `8` food items from the restaurant."
   ]
  },
  {
   "cell_type": "markdown",
   "metadata": {},
   "source": [
    "For the **visualization** of the acquired frequencies per number of food items bought from each food set, **bar plot** is used."
   ]
  },
  {
   "cell_type": "code",
   "execution_count": 173,
   "metadata": {},
   "outputs": [
    {
     "data": {
      "image/png": "[encoded data removed]",
      "text/plain": [
       "<Figure size 864x576 with 1 Axes>"
      ]
     },
     "metadata": {},
     "output_type": "display_data"
    }
   ],
   "source": [
    "# sort the Series object in ascending order\n",
    "sorted_freqs = set_item_freqs.sort_values()\n",
    "\n",
    "# get the x and y values of the acquired frequencies\n",
    "x = [str(item) for item in sorted_freqs.index.tolist()]\n",
    "y = sorted_freqs.values.tolist()\n",
    "\n",
    "# setup figure size and facecolor of bar plot\n",
    "plt.figure(figsize=(12, 8), facecolor='white')\n",
    "\n",
    "# setup bar plot with matplotlib\n",
    "bar_plot = plt.bar(x, y, color='gray', width=0.6)\n",
    "plt.title('Frequency Of Each Number of Food Items Bought')\n",
    "plt.xlabel('Number of Food Items Bought')\n",
    "plt.ylabel('Frequency')\n",
    "\n",
    "# set bar color of the most frequent number of food items bought\n",
    "bar_plot[7].set_color('orange')\n",
    "\n",
    "# display bar plot\n",
    "plt.show()"
   ]
  },
  {
   "cell_type": "markdown",
   "metadata": {},
   "source": [
    "### **Data Mining**"
   ]
  },
  {
   "cell_type": "markdown",
   "metadata": {},
   "source": [
    "As the group observed that the dataset represents the **list of item sets**, and for this project, the group assumed that each item set represents the **set of food bought by a customer from the restaurant**, the data mining technique to be used and applied the dataset, as already processed, is `Association Rule Mining`."
   ]
  },
  {
   "cell_type": "markdown",
   "metadata": {},
   "source": [
    "To apply `Association Rule Mining`, the `rule_miner.py` file will be used which contains the `RuleMiner` class and its defined functions that are needed for **rule mining**. Importing of the `RuleMiner` class is done below."
   ]
  },
  {
   "cell_type": "code",
   "execution_count": 174,
   "metadata": {},
   "outputs": [],
   "source": [
    "# import the rule miner python module\n",
    "from rule_miner import RuleMiner"
   ]
  },
  {
   "cell_type": "markdown",
   "metadata": {},
   "source": [
    "As stated by the specifications, a `RuleMiner` object shall be instantiated with support threshold `support_t` equal to `10` and confidence threshold `confidence_t` equal to `0.6`."
   ]
  },
  {
   "cell_type": "code",
   "execution_count": 175,
   "metadata": {},
   "outputs": [],
   "source": [
    "# instantiate RuleMiner object with support_t set to 10 and confidence_t set to 0.6\n",
    "rule_miner = RuleMiner(10, 0.6)"
   ]
  },
  {
   "cell_type": "markdown",
   "metadata": {},
   "source": [
    "With the `RuleMiner` object instantiated and ready for the rule mining process, the group wants to determine the `support` of some food sets in the dataset first. The group's chosen food sets which are `{5}`, `{1, 5}`, `{0, 1, 2, 3}`, and `{5, 10, 15}` shall have their `support` values acquired below."
   ]
  },
  {
   "cell_type": "code",
   "execution_count": 177,
   "metadata": {},
   "outputs": [
    {
     "name": "stdout",
     "output_type": "stream",
     "text": [
      "87\n",
      "15\n",
      "1\n",
      "2\n"
     ]
    }
   ],
   "source": [
    "# get and print the support of each chosen food set\n",
    "print(rule_miner.get_support(food_set_df, [5]))\n",
    "print(rule_miner.get_support(food_set_df, [1, 5]))\n",
    "print(rule_miner.get_support(food_set_df, [0, 1, 2, 3]))\n",
    "print(rule_miner.get_support(food_set_df, [5, 10, 15]))"
   ]
  },
  {
   "cell_type": "markdown",
   "metadata": {},
   "source": [
    "From the acquired results, food set `{5}` is present in `87` out of `300` food sets, food set `{1, 5}` is present in `15` food sets, food set `{0, 1, 2, 3}` is present in `1` food set only, and lastly, food set `{5, 10, 15}` is present in `2` food sets."
   ]
  },
  {
   "cell_type": "markdown",
   "metadata": {},
   "source": [
    "With the `get_support()` function tested, the group now proceeds to getting the frequent food sets using the `get_frequent_itemsets()` function together with the defined support threshold `10`. The frequent food sets are acquired below."
   ]
  },
  {
   "cell_type": "code",
   "execution_count": 180,
   "metadata": {},
   "outputs": [
    {
     "data": {
      "text/plain": [
       "[[3, 4, 5],\n",
       " [3, 5, 7],\n",
       " [3, 5, 13],\n",
       " [3, 5, 14],\n",
       " [4, 14, 15],\n",
       " [5, 7, 8],\n",
       " [5, 7, 14],\n",
       " [5, 8, 18],\n",
       " [5, 9, 13],\n",
       " [5, 13, 16],\n",
       " [5, 14, 16],\n",
       " [8, 11, 15],\n",
       " [11, 13, 15],\n",
       " [13, 14, 15],\n",
       " [13, 15, 18]]"
      ]
     },
     "execution_count": 180,
     "metadata": {},
     "output_type": "execute_result"
    }
   ],
   "source": [
    "# get the frequent food sets with defined support threshold 10\n",
    "frequent_food_sets = rule_miner.get_frequent_itemsets(food_set_df)\n",
    "frequent_food_sets"
   ]
  },
  {
   "cell_type": "markdown",
   "metadata": {},
   "source": [
    "With defined support threshold `10`, the frequent food sets from the list of food sets are as follows:\n",
    "- `{3, 4, 5}`\n",
    "- `{3, 5, 7}`\n",
    "- `{3, 5, 13}`\n",
    "- `{3, 5, 14}`\n",
    "- `{4, 14, 15}`\n",
    "- `{5, 7, 8}`\n",
    "- `{5, 7, 14}`\n",
    "- `{5, 8, 18}`\n",
    "- `{5, 9, 13}`\n",
    "- `{5, 13, 16}`\n",
    "- `{5, 14, 16}`\n",
    "- `{8, 11, 15}`\n",
    "- `{11, 13, 15}`\n",
    "- `{13, 14, 15}`\n",
    "- `{13, 15, 18}`"
   ]
  },
  {
   "cell_type": "markdown",
   "metadata": {},
   "source": [
    "With the frequent food sets acquired, the group wants to get of all the possible rules for these frequent food sets in the dataset. The `get_rules()` function of the `RuleMiner` object shall be used to acquire the list of rules from the frequent food sets."
   ]
  },
  {
   "cell_type": "code",
   "execution_count": 181,
   "metadata": {},
   "outputs": [
    {
     "name": "stdout",
     "output_type": "stream",
     "text": [
      "[[[3, 4], [5]], [[5], [3, 4]], [[3, 5], [4]], [[4], [3, 5]], [[4, 5], [3]], [[3], [4, 5]]]\n",
      "[[[3, 5], [7]], [[7], [3, 5]], [[3, 7], [5]], [[5], [3, 7]], [[5, 7], [3]], [[3], [5, 7]]]\n",
      "[[[3, 5], [13]], [[13], [3, 5]], [[3, 13], [5]], [[5], [3, 13]], [[5, 13], [3]], [[3], [5, 13]]]\n",
      "[[[3, 5], [14]], [[14], [3, 5]], [[3, 14], [5]], [[5], [3, 14]], [[5, 14], [3]], [[3], [5, 14]]]\n",
      "[[[4, 14], [15]], [[15], [4, 14]], [[4, 15], [14]], [[14], [4, 15]], [[14, 15], [4]], [[4], [14, 15]]]\n",
      "[[[5, 7], [8]], [[8], [5, 7]], [[5, 8], [7]], [[7], [5, 8]], [[7, 8], [5]], [[5], [7, 8]]]\n",
      "[[[5, 7], [14]], [[14], [5, 7]], [[5, 14], [7]], [[7], [5, 14]], [[7, 14], [5]], [[5], [7, 14]]]\n",
      "[[[5, 8], [18]], [[18], [5, 8]], [[5, 18], [8]], [[8], [5, 18]], [[8, 18], [5]], [[5], [8, 18]]]\n",
      "[[[5, 9], [13]], [[13], [5, 9]], [[5, 13], [9]], [[9], [5, 13]], [[9, 13], [5]], [[5], [9, 13]]]\n",
      "[[[5, 13], [16]], [[16], [5, 13]], [[5, 16], [13]], [[13], [5, 16]], [[13, 16], [5]], [[5], [13, 16]]]\n",
      "[[[5, 14], [16]], [[16], [5, 14]], [[5, 16], [14]], [[14], [5, 16]], [[14, 16], [5]], [[5], [14, 16]]]\n",
      "[[[8, 11], [15]], [[15], [8, 11]], [[8, 15], [11]], [[11], [8, 15]], [[11, 15], [8]], [[8], [11, 15]]]\n",
      "[[[11, 13], [15]], [[15], [11, 13]], [[11, 15], [13]], [[13], [11, 15]], [[13, 15], [11]], [[11], [13, 15]]]\n",
      "[[[13, 14], [15]], [[15], [13, 14]], [[13, 15], [14]], [[14], [13, 15]], [[14, 15], [13]], [[13], [14, 15]]]\n",
      "[[[13, 15], [18]], [[18], [13, 15]], [[13, 18], [15]], [[15], [13, 18]], [[15, 18], [13]], [[13], [15, 18]]]\n"
     ]
    }
   ],
   "source": [
    "# get and print all possible rules from each frequent food set\n",
    "for food_set in frequent_food_sets:\n",
    "    print(rule_miner.get_rules(food_set))"
   ]
  },
  {
   "cell_type": "markdown",
   "metadata": {},
   "source": [
    "With the rules now acquired from each frequent food set, the group wants to determine first the `confidence` of some of these rules. Using the `get_confidence()` function of the `RuleMiner` object, the group wants to get the `confidence` of the rules `{3, 4} -> {5}`, `{13} -> {3, 5}`, `{13, 15} -> {14}`, and `{15, 18} -> {13}` which is done below."
   ]
  },
  {
   "cell_type": "code",
   "execution_count": 182,
   "metadata": {},
   "outputs": [
    {
     "name": "stdout",
     "output_type": "stream",
     "text": [
      "0.48\n",
      "0.12\n",
      "0.39\n",
      "0.55\n"
     ]
    }
   ],
   "source": [
    "# get and print the confidence of each chosen rule\n",
    "print('{:.2f}'.format(rule_miner.get_confidence(food_set_df, [[3, 4], [5]])))\n",
    "print('{:.2f}'.format(rule_miner.get_confidence(food_set_df, [[13], [3, 5]])))\n",
    "print('{:.2f}'.format(rule_miner.get_confidence(food_set_df, [[13, 15], [14]])))\n",
    "print('{:.2f}'.format(rule_miner.get_confidence(food_set_df, [[15, 18], [13]])))"
   ]
  },
  {
   "cell_type": "markdown",
   "metadata": {},
   "source": [
    "The confidence of `{3, 4} -> {5}` is `0.48`, `0.12` for `{13} -> {3, 5}`, `0.39` for `{13, 15} -> {14}`, and `0.55` for `{15, 18} -> {13}`."
   ]
  },
  {
   "cell_type": "markdown",
   "metadata": {},
   "source": [
    "With the `get_confidence()` function tested, the group now wants to move on to the final part of the association rule mining process, to acquire all of the association rules given the defined support and confidence thresholds. Using the `get_association_rules()` function of the `RuleMiner` object, the **association rules** are acquired below."
   ]
  },
  {
   "cell_type": "code",
   "execution_count": 183,
   "metadata": {},
   "outputs": [
    {
     "data": {
      "text/plain": [
       "[[[3, 7], [5]], [[5, 9], [13]], [[9, 13], [5]], [[8, 11], [15]]]"
      ]
     },
     "execution_count": 183,
     "metadata": {},
     "output_type": "execute_result"
    }
   ],
   "source": [
    "# get all association rules wherein both support and confidence are greater than the\n",
    "# support threshold '10' and confidence threshold '0.6'\n",
    "association_rules = rule_miner.get_association_rules(food_set_df)\n",
    "\n",
    "# display all association rules that satisfied the defined thresholds\n",
    "association_rules"
   ]
  },
  {
   "cell_type": "markdown",
   "metadata": {},
   "source": [
    "### **Insights and Conclusions**"
   ]
  },
  {
   "cell_type": "markdown",
   "metadata": {},
   "source": [
    "With a defined support threshold of `10` and confidence threshold of `0.6`, the following association rules derived from the list of food sets bought by customers from the restaurant are:\n",
    "- `{3, 7} -> {5}`\n",
    "    - It is more likely that if a customer buys food items `3` and `7` then he/she will buy food item `5` as well.\n",
    "- `{5, 9} -> {13}`\n",
    "    - It is more likely that if a customer buys food items `5` and `9` then he/she will buy food item `13` as well.\n",
    "- `{9, 13} -> {5}`\n",
    "    - It is more likely that if a customer buys food items `9` and `13` then he/she will buy food item `5` as well.\n",
    "- `{8, 11} -> {15}`\n",
    "    - It is more likely that if a customer buys food items `8` and `11` then he/she will buy food item `15` as well."
   ]
  },
  {
   "cell_type": "code",
   "execution_count": null,
   "metadata": {},
   "outputs": [],
   "source": []
  }
 ],
 "metadata": {
  "kernelspec": {
   "display_name": "Python 3",
   "language": "python",
   "name": "python3"
  },
  "language_info": {
   "codemirror_mode": {
    "name": "ipython",
    "version": 3
   },
   "file_extension": ".py",
   "mimetype": "text/x-python",
   "name": "python",
   "nbconvert_exporter": "python",
   "pygments_lexer": "ipython3",
   "version": "3.9.0"
  }
 },
 "nbformat": 4,
 "nbformat_minor": 4
}
